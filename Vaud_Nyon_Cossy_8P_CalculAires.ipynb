{
 "nbformat": 4,
 "nbformat_minor": 2,
 "metadata": {
  "language_info": {
   "name": "python",
   "codemirror_mode": {
    "name": "ipython",
    "version": 3
   },
   "version": "3.7.6-final"
  },
  "orig_nbformat": 2,
  "file_extension": ".py",
  "mimetype": "text/x-python",
  "name": "python",
  "npconvert_exporter": "python",
  "pygments_lexer": "ipython3",
  "version": 3,
  "kernelspec": {
   "name": "python37664bitbasecondab3a67deebe5948768e8683c24e9f82de",
   "display_name": "Python 3.7.6 64-bit ('base': conda)"
  }
 },
 "cells": [
  {
   "cell_type": "code",
   "execution_count": 11,
   "metadata": {},
   "outputs": [
    {
     "output_type": "execute_result",
     "data": {
      "text/plain": "'La surface du rectangle est de 20.0 cm2'"
     },
     "metadata": {},
     "execution_count": 11
    }
   ],
   "source": [
    "## Calcul de l'aire d'un triangle\n",
    "\n",
    "## La formule est la suivante: (base * hauteur)/2\n",
    "## Nous avons donc deux variables: 'base' et 'hauteur'\n",
    "## Par variable, nous entendons des valeurs qui peuvent varier, il existe\n",
    "## une infinité de triangle dont les bases et hauteurs sont différentes. Cependant, la \n",
    "## formule nous indique qu'il faut diviser le produit de la base fois la \n",
    "## hauteur par 2, le chiffre 2 ne variant jamais, c'est ce que l'on\n",
    "## appellera donc une 'constante'\n",
    "\n",
    "\n",
    "\n",
    "\n",
    "def rectangle_area():\n",
    "    grandCote = float(input('Entrer la valeur du petit côté du rectangle: '))\n",
    "    petitCote = float(input('Entrer la valeur du grand côté du rectangle: '))\n",
    "    area = grandCote * petitCote\n",
    "    return f'La surface du rectangle est de {area} cm2' \n",
    "\n",
    "def triangle_area():\n",
    "    base = float(input('Entrer la valeur de la base du triangle: '))\n",
    "    hauteur = float(input('Entrer la valeur de la hauteur du triangle: '))\n",
    "    area = 0.5 * base * hauteur\n",
    "    return f'La surface du triangle est de {area} cm2'\n",
    "\n",
    "def parallelogram_area():\n",
    "    base = float(input('Entrer la valeur de la base du parallélogramme: '))\n",
    "    hauteur = float(input('Entrer la valeur de la hauteur du parallélogramme: '))\n",
    "    area = base * hauteur\n",
    "    return f'La surface du parallélogramme est de {area} cm2'\n",
    "\n",
    "\n",
    "triangle_area()"
   ]
  },
  {
   "cell_type": "code",
   "execution_count": null,
   "metadata": {},
   "outputs": [],
   "source": [
    "def unit_conversion(value, unit1, unit2):\n",
    "    equivalent_metre = {\n",
    "        'km':1000,\n",
    "        'hm':100,\n",
    "        'dam':10,\n",
    "        'm':1,\n",
    "        'dm':0.1,\n",
    "        'cm':0.01,\n",
    "        'mm':0.001,\n",
    "    }\n",
    "    unit1_to_m =equivalent_metre.get(unit1)* value\n",
    "    unit2_to_m =equivalent_metre.get(unit2)\n",
    "    conversion = unit1_to_m / unit2_to_m\n",
    "    return \"{} {} est égal à {} {}\".format(value, unit1, conversion, unit2)\n",
    "\n",
    "unit_conversion(450,'m','km')"
   ]
  },
  {
   "cell_type": "code",
   "execution_count": null,
   "metadata": {},
   "outputs": [],
   "source": []
  },
  {
   "cell_type": "code",
   "execution_count": null,
   "metadata": {},
   "outputs": [],
   "source": []
  }
 ]
}